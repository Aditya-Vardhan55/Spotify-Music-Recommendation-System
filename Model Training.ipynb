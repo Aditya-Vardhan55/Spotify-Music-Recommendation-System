{
 "cells": [
  {
   "cell_type": "code",
   "execution_count": 22,
   "metadata": {},
   "outputs": [
    {
     "data": {
      "text/html": [
       "<div>\n",
       "<style scoped>\n",
       "    .dataframe tbody tr th:only-of-type {\n",
       "        vertical-align: middle;\n",
       "    }\n",
       "\n",
       "    .dataframe tbody tr th {\n",
       "        vertical-align: top;\n",
       "    }\n",
       "\n",
       "    .dataframe thead th {\n",
       "        text-align: right;\n",
       "    }\n",
       "</style>\n",
       "<table border=\"1\" class=\"dataframe\">\n",
       "  <thead>\n",
       "    <tr style=\"text-align: right;\">\n",
       "      <th></th>\n",
       "      <th>artist</th>\n",
       "      <th>song</th>\n",
       "      <th>link</th>\n",
       "      <th>text</th>\n",
       "    </tr>\n",
       "  </thead>\n",
       "  <tbody>\n",
       "    <tr>\n",
       "      <th>0</th>\n",
       "      <td>ABBA</td>\n",
       "      <td>Ahe's My Kind Of Girl</td>\n",
       "      <td>/a/abba/ahes+my+kind+of+girl_20598417.html</td>\n",
       "      <td>Look at her face, it's a wonderful face  \\r\\nA...</td>\n",
       "    </tr>\n",
       "    <tr>\n",
       "      <th>1</th>\n",
       "      <td>ABBA</td>\n",
       "      <td>Andante, Andante</td>\n",
       "      <td>/a/abba/andante+andante_20002708.html</td>\n",
       "      <td>Take it easy with me, please  \\r\\nTouch me gen...</td>\n",
       "    </tr>\n",
       "    <tr>\n",
       "      <th>2</th>\n",
       "      <td>ABBA</td>\n",
       "      <td>As Good As New</td>\n",
       "      <td>/a/abba/as+good+as+new_20003033.html</td>\n",
       "      <td>I'll never know why I had to go  \\r\\nWhy I had...</td>\n",
       "    </tr>\n",
       "    <tr>\n",
       "      <th>3</th>\n",
       "      <td>ABBA</td>\n",
       "      <td>Bang</td>\n",
       "      <td>/a/abba/bang_20598415.html</td>\n",
       "      <td>Making somebody happy is a question of give an...</td>\n",
       "    </tr>\n",
       "    <tr>\n",
       "      <th>4</th>\n",
       "      <td>ABBA</td>\n",
       "      <td>Bang-A-Boomerang</td>\n",
       "      <td>/a/abba/bang+a+boomerang_20002668.html</td>\n",
       "      <td>Making somebody happy is a question of give an...</td>\n",
       "    </tr>\n",
       "  </tbody>\n",
       "</table>\n",
       "</div>"
      ],
      "text/plain": [
       "  artist                   song                                        link  \\\n",
       "0   ABBA  Ahe's My Kind Of Girl  /a/abba/ahes+my+kind+of+girl_20598417.html   \n",
       "1   ABBA       Andante, Andante       /a/abba/andante+andante_20002708.html   \n",
       "2   ABBA         As Good As New        /a/abba/as+good+as+new_20003033.html   \n",
       "3   ABBA                   Bang                  /a/abba/bang_20598415.html   \n",
       "4   ABBA       Bang-A-Boomerang      /a/abba/bang+a+boomerang_20002668.html   \n",
       "\n",
       "                                                text  \n",
       "0  Look at her face, it's a wonderful face  \\r\\nA...  \n",
       "1  Take it easy with me, please  \\r\\nTouch me gen...  \n",
       "2  I'll never know why I had to go  \\r\\nWhy I had...  \n",
       "3  Making somebody happy is a question of give an...  \n",
       "4  Making somebody happy is a question of give an...  "
      ]
     },
     "execution_count": 22,
     "metadata": {},
     "output_type": "execute_result"
    }
   ],
   "source": [
    "import pandas as pd\n",
    "\n",
    "df= pd.read_csv(\"spotify_millsongdata.csv\")\n",
    "df.head(5)"
   ]
  },
  {
   "cell_type": "code",
   "execution_count": 23,
   "metadata": {},
   "outputs": [
    {
     "data": {
      "text/plain": [
       "artist    0\n",
       "song      0\n",
       "link      0\n",
       "text      0\n",
       "dtype: int64"
      ]
     },
     "execution_count": 23,
     "metadata": {},
     "output_type": "execute_result"
    }
   ],
   "source": [
    "df.isnull().sum()"
   ]
  },
  {
   "cell_type": "code",
   "execution_count": 24,
   "metadata": {},
   "outputs": [
    {
     "data": {
      "text/html": [
       "<div>\n",
       "<style scoped>\n",
       "    .dataframe tbody tr th:only-of-type {\n",
       "        vertical-align: middle;\n",
       "    }\n",
       "\n",
       "    .dataframe tbody tr th {\n",
       "        vertical-align: top;\n",
       "    }\n",
       "\n",
       "    .dataframe thead th {\n",
       "        text-align: right;\n",
       "    }\n",
       "</style>\n",
       "<table border=\"1\" class=\"dataframe\">\n",
       "  <thead>\n",
       "    <tr style=\"text-align: right;\">\n",
       "      <th></th>\n",
       "      <th>artist</th>\n",
       "      <th>song</th>\n",
       "      <th>text</th>\n",
       "    </tr>\n",
       "  </thead>\n",
       "  <tbody>\n",
       "    <tr>\n",
       "      <th>0</th>\n",
       "      <td>Randy Travis</td>\n",
       "      <td>Do I Ever Cross Your Mind</td>\n",
       "      <td>Oh, sometimes I go walking through fields wher...</td>\n",
       "    </tr>\n",
       "    <tr>\n",
       "      <th>1</th>\n",
       "      <td>Mary Black</td>\n",
       "      <td>The Moon And St. Christopher</td>\n",
       "      <td>When I was young I spoke like a child, And I s...</td>\n",
       "    </tr>\n",
       "    <tr>\n",
       "      <th>2</th>\n",
       "      <td>Fleetwood Mac</td>\n",
       "      <td>Big Love</td>\n",
       "      <td>Looking out for love  \\r\\nIn the night so stil...</td>\n",
       "    </tr>\n",
       "    <tr>\n",
       "      <th>3</th>\n",
       "      <td>Stone Roses</td>\n",
       "      <td>Fools Gold</td>\n",
       "      <td>The gold road's sure a long road  \\r\\nWinds on...</td>\n",
       "    </tr>\n",
       "    <tr>\n",
       "      <th>4</th>\n",
       "      <td>Bonnie Raitt</td>\n",
       "      <td>Storm Warning</td>\n",
       "      <td>Storm warning,  \\r\\nFeels like a heavy rain.  ...</td>\n",
       "    </tr>\n",
       "  </tbody>\n",
       "</table>\n",
       "</div>"
      ],
      "text/plain": [
       "          artist                          song  \\\n",
       "0   Randy Travis     Do I Ever Cross Your Mind   \n",
       "1     Mary Black  The Moon And St. Christopher   \n",
       "2  Fleetwood Mac                      Big Love   \n",
       "3    Stone Roses                    Fools Gold   \n",
       "4   Bonnie Raitt                 Storm Warning   \n",
       "\n",
       "                                                text  \n",
       "0  Oh, sometimes I go walking through fields wher...  \n",
       "1  When I was young I spoke like a child, And I s...  \n",
       "2  Looking out for love  \\r\\nIn the night so stil...  \n",
       "3  The gold road's sure a long road  \\r\\nWinds on...  \n",
       "4  Storm warning,  \\r\\nFeels like a heavy rain.  ...  "
      ]
     },
     "execution_count": 24,
     "metadata": {},
     "output_type": "execute_result"
    }
   ],
   "source": [
    "df= df.sample(5000).drop(\"link\", axis= 1).reset_index(drop= True)\n",
    "df.head()"
   ]
  },
  {
   "cell_type": "code",
   "execution_count": 25,
   "metadata": {},
   "outputs": [
    {
     "data": {
      "text/plain": [
       "\"Oh, sometimes I go walking through fields where we walked  \\r\\nLong ago in the sweet used to be  \\r\\nAnd the flowers still grow, but they don't smell as sweet  \\r\\nAs they did when you picked them for me  \\r\\n  \\r\\nAnd when I think of you and the love we once knew  \\r\\nHow I wish we could go back in time  \\r\\nDo you ever think back on old memories like that  \\r\\nOr do I ever cross your mind  \\r\\n  \\r\\nOh, how often I wish that again I could kiss  \\r\\nYour sweet lips like I did long ago  \\r\\nAnd how often I long for those two loving arms  \\r\\nThat once held me so gentle and close  \\r\\n  \\r\\nAnd when I think of you and the love we once knew  \\r\\nHow I wish we could go back in time  \\r\\nDo you ever recall these old memories at all  \\r\\nOr do I ever cross your mind  \\r\\n  \\r\\nWhen old memories appear my eyes wont stay clear  \\r\\nWhen I think of those happier times  \\r\\nDo you ever recall these old memories at all  \\r\\nOr do I ever cross your mind  \\r\\n  \\r\\nDo you ever think back on old memories like that  \\r\\nOr do I ever cross your mind\\r\\n\\r\\n\""
      ]
     },
     "execution_count": 25,
     "metadata": {},
     "output_type": "execute_result"
    }
   ],
   "source": [
    "df['text'][0]"
   ]
  },
  {
   "cell_type": "code",
   "execution_count": 26,
   "metadata": {},
   "outputs": [],
   "source": [
    "# For Simplicity we are taking a sample\n",
    "# df= df.sample(5000)"
   ]
  },
  {
   "cell_type": "code",
   "execution_count": 27,
   "metadata": {},
   "outputs": [
    {
     "data": {
      "text/html": [
       "<div>\n",
       "<style scoped>\n",
       "    .dataframe tbody tr th:only-of-type {\n",
       "        vertical-align: middle;\n",
       "    }\n",
       "\n",
       "    .dataframe tbody tr th {\n",
       "        vertical-align: top;\n",
       "    }\n",
       "\n",
       "    .dataframe thead th {\n",
       "        text-align: right;\n",
       "    }\n",
       "</style>\n",
       "<table border=\"1\" class=\"dataframe\">\n",
       "  <thead>\n",
       "    <tr style=\"text-align: right;\">\n",
       "      <th></th>\n",
       "      <th>artist</th>\n",
       "      <th>song</th>\n",
       "      <th>text</th>\n",
       "    </tr>\n",
       "  </thead>\n",
       "  <tbody>\n",
       "    <tr>\n",
       "      <th>0</th>\n",
       "      <td>Randy Travis</td>\n",
       "      <td>Do I Ever Cross Your Mind</td>\n",
       "      <td>Oh, sometimes I go walking through fields wher...</td>\n",
       "    </tr>\n",
       "    <tr>\n",
       "      <th>1</th>\n",
       "      <td>Mary Black</td>\n",
       "      <td>The Moon And St. Christopher</td>\n",
       "      <td>When I was young I spoke like a child, And I s...</td>\n",
       "    </tr>\n",
       "    <tr>\n",
       "      <th>2</th>\n",
       "      <td>Fleetwood Mac</td>\n",
       "      <td>Big Love</td>\n",
       "      <td>Looking out for love  \\r\\nIn the night so stil...</td>\n",
       "    </tr>\n",
       "    <tr>\n",
       "      <th>3</th>\n",
       "      <td>Stone Roses</td>\n",
       "      <td>Fools Gold</td>\n",
       "      <td>The gold road's sure a long road  \\r\\nWinds on...</td>\n",
       "    </tr>\n",
       "    <tr>\n",
       "      <th>4</th>\n",
       "      <td>Bonnie Raitt</td>\n",
       "      <td>Storm Warning</td>\n",
       "      <td>Storm warning,  \\r\\nFeels like a heavy rain.  ...</td>\n",
       "    </tr>\n",
       "  </tbody>\n",
       "</table>\n",
       "</div>"
      ],
      "text/plain": [
       "          artist                          song  \\\n",
       "0   Randy Travis     Do I Ever Cross Your Mind   \n",
       "1     Mary Black  The Moon And St. Christopher   \n",
       "2  Fleetwood Mac                      Big Love   \n",
       "3    Stone Roses                    Fools Gold   \n",
       "4   Bonnie Raitt                 Storm Warning   \n",
       "\n",
       "                                                text  \n",
       "0  Oh, sometimes I go walking through fields wher...  \n",
       "1  When I was young I spoke like a child, And I s...  \n",
       "2  Looking out for love  \\r\\nIn the night so stil...  \n",
       "3  The gold road's sure a long road  \\r\\nWinds on...  \n",
       "4  Storm warning,  \\r\\nFeels like a heavy rain.  ...  "
      ]
     },
     "execution_count": 27,
     "metadata": {},
     "output_type": "execute_result"
    }
   ],
   "source": [
    "df.head()"
   ]
  },
  {
   "cell_type": "code",
   "execution_count": 28,
   "metadata": {},
   "outputs": [
    {
     "data": {
      "text/plain": [
       "(5000, 3)"
      ]
     },
     "execution_count": 28,
     "metadata": {},
     "output_type": "execute_result"
    }
   ],
   "source": [
    "df.shape"
   ]
  },
  {
   "cell_type": "markdown",
   "metadata": {},
   "source": [
    "## Text Preprocessing/Cleaning"
   ]
  },
  {
   "cell_type": "code",
   "execution_count": 29,
   "metadata": {},
   "outputs": [],
   "source": [
    "df['text']= df['text'].str.lower().replace(r'^\\w\\s', ' ').replace(r'\\n',' ', regex= True)       #a-ZA-Z0-9 = \\w\\s"
   ]
  },
  {
   "cell_type": "code",
   "execution_count": 30,
   "metadata": {},
   "outputs": [],
   "source": [
    "# As there are many approaches for this recommendation system i.e. Content-Based Filtering, Collaborative Filtering, Hybrid....etc\n",
    "# I'm gonna use the Content Based Filtering\n",
    "\n",
    "import nltk\n",
    "from nltk.stem.porter import PorterStemmer\n"
   ]
  },
  {
   "cell_type": "code",
   "execution_count": 31,
   "metadata": {},
   "outputs": [],
   "source": [
    "stemmer = PorterStemmer()"
   ]
  },
  {
   "cell_type": "code",
   "execution_count": 32,
   "metadata": {},
   "outputs": [],
   "source": [
    "def token(txt):\n",
    "    token= nltk.word_tokenize(txt)\n",
    "    a = [stemmer.stem(w) for w in token]\n",
    "    return \" \".join(a)"
   ]
  },
  {
   "cell_type": "code",
   "execution_count": 33,
   "metadata": {},
   "outputs": [
    {
     "data": {
      "text/plain": [
       "'you are beauti , beauti'"
      ]
     },
     "execution_count": 33,
     "metadata": {},
     "output_type": "execute_result"
    }
   ],
   "source": [
    "token(\"you are beautiful, beauty\")"
   ]
  },
  {
   "cell_type": "code",
   "execution_count": 34,
   "metadata": {},
   "outputs": [
    {
     "data": {
      "text/plain": [
       "0       oh , sometim i go walk through field where we ...\n",
       "1       when i wa young i spoke like a child , and i s...\n",
       "2       look out for love in the night so still oh i '...\n",
       "3       the gold road 's sure a long road wind on thro...\n",
       "4       storm warn , feel like a heavi rain . wind on ...\n",
       "                              ...                        \n",
       "4995    my heart skips-skips-skips-skips-skips-skip a ...\n",
       "4996    i 've been think reminisc 'bout the day when w...\n",
       "4997    he rememb the first time he met her he rememb ...\n",
       "4998    it seem like happi is ju ' a thing call joe he...\n",
       "4999    toss into my mind , stir the calm you splash m...\n",
       "Name: text, Length: 5000, dtype: object"
      ]
     },
     "execution_count": 34,
     "metadata": {},
     "output_type": "execute_result"
    }
   ],
   "source": [
    "df['text'].apply(lambda x: token(x))"
   ]
  },
  {
   "cell_type": "code",
   "execution_count": 35,
   "metadata": {},
   "outputs": [],
   "source": [
    "from sklearn.feature_extraction.text import TfidfVectorizer\n",
    "from sklearn.metrics.pairwise import cosine_similarity"
   ]
  },
  {
   "cell_type": "code",
   "execution_count": 36,
   "metadata": {},
   "outputs": [],
   "source": [
    "tfid = TfidfVectorizer(analyzer='word', stop_words='english')\n",
    "matrix = tfid.fit_transform(df['text'])"
   ]
  },
  {
   "cell_type": "code",
   "execution_count": 37,
   "metadata": {},
   "outputs": [
    {
     "data": {
      "text/plain": [
       "<Compressed Sparse Row sparse matrix of dtype 'float64'\n",
       "\twith 269946 stored elements and shape (5000, 23762)>"
      ]
     },
     "execution_count": 37,
     "metadata": {},
     "output_type": "execute_result"
    }
   ],
   "source": [
    "matrix"
   ]
  },
  {
   "cell_type": "code",
   "execution_count": 38,
   "metadata": {},
   "outputs": [
    {
     "data": {
      "text/plain": [
       "array([1.        , 0.02243137, 0.03792163, ..., 0.08598076, 0.02243864,\n",
       "       0.01309369])"
      ]
     },
     "execution_count": 38,
     "metadata": {},
     "output_type": "execute_result"
    }
   ],
   "source": [
    "similar = cosine_similarity(matrix)\n",
    "similar[0]"
   ]
  },
  {
   "cell_type": "markdown",
   "metadata": {},
   "source": [
    "## Recommender Function"
   ]
  },
  {
   "cell_type": "code",
   "execution_count": 41,
   "metadata": {},
   "outputs": [
    {
     "data": {
      "text/plain": [
       "np.int64(0)"
      ]
     },
     "execution_count": 41,
     "metadata": {},
     "output_type": "execute_result"
    }
   ],
   "source": [
    "df[df['song'] == \"Do I Ever Cross Your Mind\"].index[0]"
   ]
  },
  {
   "cell_type": "code",
   "execution_count": 44,
   "metadata": {},
   "outputs": [],
   "source": [
    "def recommender(song_name):\n",
    "    idx = df[df['song'] == song_name].index[0]\n",
    "    distance = sorted(list(enumerate(similar[idx])), reverse= True, key= lambda x:x[1])\n",
    "    song = []\n",
    "    for s_id in distance[1:21]:      # 1:21 is for how many lines needed to display\n",
    "        song.append(df.iloc[s_id[0]].song)\n",
    "    return song"
   ]
  },
  {
   "cell_type": "code",
   "execution_count": 49,
   "metadata": {},
   "outputs": [
    {
     "data": {
      "text/plain": [
       "['Memories',\n",
       " 'Back To The Old House',\n",
       " 'Do I Ever Cross Your Mind',\n",
       " 'Never',\n",
       " 'Sabotage',\n",
       " 'A Long, Long Time Ago',\n",
       " 'This Old Heart Of Mine (Is Weak For You)',\n",
       " \"If We Can't Be The Same Old Sweethearts\",\n",
       " 'Losing You (Track',\n",
       " 'King Of The Thing',\n",
       " 'A Long Time Gone',\n",
       " 'Memories Fade',\n",
       " 'Hard To Say Goodbye',\n",
       " 'Say My Name',\n",
       " 'I Wish',\n",
       " 'And I Think Of You',\n",
       " \"Love Isn't Easy\",\n",
       " 'Same Old Song And Dance',\n",
       " 'Old Time Rock N Roll',\n",
       " 'Sweet Evening Breeze']"
      ]
     },
     "execution_count": 49,
     "metadata": {},
     "output_type": "execute_result"
    }
   ],
   "source": [
    "recommender(\"Do I Ever Cross Your Mind\")"
   ]
  },
  {
   "cell_type": "code",
   "execution_count": 50,
   "metadata": {},
   "outputs": [],
   "source": [
    "import pickle\n",
    "pickle.dump(similar, open(\"similarity\", \"wb\"))\n",
    "pickle.dump(df, open(\"df\", \"wb\"))"
   ]
  },
  {
   "cell_type": "code",
   "execution_count": null,
   "metadata": {},
   "outputs": [],
   "source": []
  }
 ],
 "metadata": {
  "kernelspec": {
   "display_name": "Python 3",
   "language": "python",
   "name": "python3"
  },
  "language_info": {
   "codemirror_mode": {
    "name": "ipython",
    "version": 3
   },
   "file_extension": ".py",
   "mimetype": "text/x-python",
   "name": "python",
   "nbconvert_exporter": "python",
   "pygments_lexer": "ipython3",
   "version": "3.11.9"
  }
 },
 "nbformat": 4,
 "nbformat_minor": 2
}
