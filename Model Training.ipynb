{
 "cells": [
  {
   "cell_type": "code",
   "execution_count": 1,
   "metadata": {},
   "outputs": [
    {
     "data": {
      "text/html": [
       "<div>\n",
       "<style scoped>\n",
       "    .dataframe tbody tr th:only-of-type {\n",
       "        vertical-align: middle;\n",
       "    }\n",
       "\n",
       "    .dataframe tbody tr th {\n",
       "        vertical-align: top;\n",
       "    }\n",
       "\n",
       "    .dataframe thead th {\n",
       "        text-align: right;\n",
       "    }\n",
       "</style>\n",
       "<table border=\"1\" class=\"dataframe\">\n",
       "  <thead>\n",
       "    <tr style=\"text-align: right;\">\n",
       "      <th></th>\n",
       "      <th>artist</th>\n",
       "      <th>song</th>\n",
       "      <th>link</th>\n",
       "      <th>text</th>\n",
       "    </tr>\n",
       "  </thead>\n",
       "  <tbody>\n",
       "    <tr>\n",
       "      <th>0</th>\n",
       "      <td>ABBA</td>\n",
       "      <td>Ahe's My Kind Of Girl</td>\n",
       "      <td>/a/abba/ahes+my+kind+of+girl_20598417.html</td>\n",
       "      <td>Look at her face, it's a wonderful face  \\r\\nA...</td>\n",
       "    </tr>\n",
       "    <tr>\n",
       "      <th>1</th>\n",
       "      <td>ABBA</td>\n",
       "      <td>Andante, Andante</td>\n",
       "      <td>/a/abba/andante+andante_20002708.html</td>\n",
       "      <td>Take it easy with me, please  \\r\\nTouch me gen...</td>\n",
       "    </tr>\n",
       "    <tr>\n",
       "      <th>2</th>\n",
       "      <td>ABBA</td>\n",
       "      <td>As Good As New</td>\n",
       "      <td>/a/abba/as+good+as+new_20003033.html</td>\n",
       "      <td>I'll never know why I had to go  \\r\\nWhy I had...</td>\n",
       "    </tr>\n",
       "    <tr>\n",
       "      <th>3</th>\n",
       "      <td>ABBA</td>\n",
       "      <td>Bang</td>\n",
       "      <td>/a/abba/bang_20598415.html</td>\n",
       "      <td>Making somebody happy is a question of give an...</td>\n",
       "    </tr>\n",
       "    <tr>\n",
       "      <th>4</th>\n",
       "      <td>ABBA</td>\n",
       "      <td>Bang-A-Boomerang</td>\n",
       "      <td>/a/abba/bang+a+boomerang_20002668.html</td>\n",
       "      <td>Making somebody happy is a question of give an...</td>\n",
       "    </tr>\n",
       "  </tbody>\n",
       "</table>\n",
       "</div>"
      ],
      "text/plain": [
       "  artist                   song                                        link  \\\n",
       "0   ABBA  Ahe's My Kind Of Girl  /a/abba/ahes+my+kind+of+girl_20598417.html   \n",
       "1   ABBA       Andante, Andante       /a/abba/andante+andante_20002708.html   \n",
       "2   ABBA         As Good As New        /a/abba/as+good+as+new_20003033.html   \n",
       "3   ABBA                   Bang                  /a/abba/bang_20598415.html   \n",
       "4   ABBA       Bang-A-Boomerang      /a/abba/bang+a+boomerang_20002668.html   \n",
       "\n",
       "                                                text  \n",
       "0  Look at her face, it's a wonderful face  \\r\\nA...  \n",
       "1  Take it easy with me, please  \\r\\nTouch me gen...  \n",
       "2  I'll never know why I had to go  \\r\\nWhy I had...  \n",
       "3  Making somebody happy is a question of give an...  \n",
       "4  Making somebody happy is a question of give an...  "
      ]
     },
     "execution_count": 1,
     "metadata": {},
     "output_type": "execute_result"
    }
   ],
   "source": [
    "import pandas as pd\n",
    "\n",
    "df= pd.read_csv(\"spotify_millsongdata.csv\")\n",
    "df.head(5)"
   ]
  },
  {
   "cell_type": "code",
   "execution_count": 2,
   "metadata": {},
   "outputs": [
    {
     "data": {
      "text/plain": [
       "artist    0\n",
       "song      0\n",
       "link      0\n",
       "text      0\n",
       "dtype: int64"
      ]
     },
     "execution_count": 2,
     "metadata": {},
     "output_type": "execute_result"
    }
   ],
   "source": [
    "df.isnull().sum()"
   ]
  },
  {
   "cell_type": "code",
   "execution_count": 3,
   "metadata": {},
   "outputs": [
    {
     "data": {
      "text/html": [
       "<div>\n",
       "<style scoped>\n",
       "    .dataframe tbody tr th:only-of-type {\n",
       "        vertical-align: middle;\n",
       "    }\n",
       "\n",
       "    .dataframe tbody tr th {\n",
       "        vertical-align: top;\n",
       "    }\n",
       "\n",
       "    .dataframe thead th {\n",
       "        text-align: right;\n",
       "    }\n",
       "</style>\n",
       "<table border=\"1\" class=\"dataframe\">\n",
       "  <thead>\n",
       "    <tr style=\"text-align: right;\">\n",
       "      <th></th>\n",
       "      <th>artist</th>\n",
       "      <th>song</th>\n",
       "      <th>text</th>\n",
       "    </tr>\n",
       "  </thead>\n",
       "  <tbody>\n",
       "    <tr>\n",
       "      <th>0</th>\n",
       "      <td>Velvet Underground</td>\n",
       "      <td>I Can't Stand It</td>\n",
       "      <td>It's hard being a man  \\r\\nLiving in a garbage...</td>\n",
       "    </tr>\n",
       "    <tr>\n",
       "      <th>1</th>\n",
       "      <td>Owl City</td>\n",
       "      <td>Hey Anna</td>\n",
       "      <td>Hey Anna, it's just a boy you won't understand...</td>\n",
       "    </tr>\n",
       "    <tr>\n",
       "      <th>2</th>\n",
       "      <td>Roy Orbison</td>\n",
       "      <td>Here Comes The Rain, Baby</td>\n",
       "      <td>Here comes the rain, baby  \\r\\nGuess it's good...</td>\n",
       "    </tr>\n",
       "    <tr>\n",
       "      <th>3</th>\n",
       "      <td>Dewa 19</td>\n",
       "      <td>Kirana</td>\n",
       "      <td>Kucoba memahami tempatku berlabuh  \\r\\nTerdamp...</td>\n",
       "    </tr>\n",
       "    <tr>\n",
       "      <th>4</th>\n",
       "      <td>The Monkees</td>\n",
       "      <td>Come On In</td>\n",
       "      <td>Come on in,  \\r\\nYou sure look good to me.  \\r...</td>\n",
       "    </tr>\n",
       "  </tbody>\n",
       "</table>\n",
       "</div>"
      ],
      "text/plain": [
       "               artist                       song  \\\n",
       "0  Velvet Underground           I Can't Stand It   \n",
       "1            Owl City                   Hey Anna   \n",
       "2         Roy Orbison  Here Comes The Rain, Baby   \n",
       "3             Dewa 19                     Kirana   \n",
       "4         The Monkees                 Come On In   \n",
       "\n",
       "                                                text  \n",
       "0  It's hard being a man  \\r\\nLiving in a garbage...  \n",
       "1  Hey Anna, it's just a boy you won't understand...  \n",
       "2  Here comes the rain, baby  \\r\\nGuess it's good...  \n",
       "3  Kucoba memahami tempatku berlabuh  \\r\\nTerdamp...  \n",
       "4  Come on in,  \\r\\nYou sure look good to me.  \\r...  "
      ]
     },
     "execution_count": 3,
     "metadata": {},
     "output_type": "execute_result"
    }
   ],
   "source": [
    "df= df.sample(5000).drop(\"link\", axis= 1).reset_index(drop= True)\n",
    "df.head()"
   ]
  },
  {
   "cell_type": "code",
   "execution_count": 4,
   "metadata": {},
   "outputs": [
    {
     "data": {
      "text/plain": [
       "\"It's hard being a man  \\r\\nLiving in a garbage pail  \\r\\nMy landlady called me up, oh  \\r\\nShe tried to hit me with a mop  \\r\\n  \\r\\nI can't stand it any more more  \\r\\nI can't stand it any more more, oh  \\r\\nI can't stand it any more more  \\r\\n  \\r\\nBut if baby would just come back, it'd be all right  \\r\\nYeah, if baby would just come back, it would be all right  \\r\\nCome on, baby  \\r\\n  \\r\\nI live with thirteen dead cats  \\r\\nA purple dog that wears spats  \\r\\nThey're all living out in the hall  \\r\\nAnd I can't stand it any more  \\r\\n  \\r\\nI can't stand it any more more  \\r\\nI can't stand it any more more  \\r\\nI can't stand it any more more  \\r\\n  \\r\\nBut if baby would just come back, it'd be all right  \\r\\nOh, if baby would just come back, it would be all right  \\r\\nBe all right, now  \\r\\n  \\r\\nCome on, baby  \\r\\n  \\r\\nI'm tired of living all alone, yeah  \\r\\nNobody ever calls me on the phone  \\r\\nBut when things are getting better  \\r\\nI just play my music louder  \\r\\n  \\r\\nI can't stand it any more more  \\r\\nI can't stand it any more more  \\r\\nI can't stand it any more more  \\r\\nI can't stand it, I can't stand it  \\r\\nI can't stand it, I can't stand it ...  \\r\\n\\r\\n\""
      ]
     },
     "execution_count": 4,
     "metadata": {},
     "output_type": "execute_result"
    }
   ],
   "source": [
    "df['text'][0]"
   ]
  },
  {
   "cell_type": "code",
   "execution_count": 5,
   "metadata": {},
   "outputs": [],
   "source": [
    "# For Simplicity we are taking a sample\n",
    "# df= df.sample(5000)"
   ]
  },
  {
   "cell_type": "code",
   "execution_count": 6,
   "metadata": {},
   "outputs": [
    {
     "data": {
      "text/html": [
       "<div>\n",
       "<style scoped>\n",
       "    .dataframe tbody tr th:only-of-type {\n",
       "        vertical-align: middle;\n",
       "    }\n",
       "\n",
       "    .dataframe tbody tr th {\n",
       "        vertical-align: top;\n",
       "    }\n",
       "\n",
       "    .dataframe thead th {\n",
       "        text-align: right;\n",
       "    }\n",
       "</style>\n",
       "<table border=\"1\" class=\"dataframe\">\n",
       "  <thead>\n",
       "    <tr style=\"text-align: right;\">\n",
       "      <th></th>\n",
       "      <th>artist</th>\n",
       "      <th>song</th>\n",
       "      <th>text</th>\n",
       "    </tr>\n",
       "  </thead>\n",
       "  <tbody>\n",
       "    <tr>\n",
       "      <th>0</th>\n",
       "      <td>Velvet Underground</td>\n",
       "      <td>I Can't Stand It</td>\n",
       "      <td>It's hard being a man  \\r\\nLiving in a garbage...</td>\n",
       "    </tr>\n",
       "    <tr>\n",
       "      <th>1</th>\n",
       "      <td>Owl City</td>\n",
       "      <td>Hey Anna</td>\n",
       "      <td>Hey Anna, it's just a boy you won't understand...</td>\n",
       "    </tr>\n",
       "    <tr>\n",
       "      <th>2</th>\n",
       "      <td>Roy Orbison</td>\n",
       "      <td>Here Comes The Rain, Baby</td>\n",
       "      <td>Here comes the rain, baby  \\r\\nGuess it's good...</td>\n",
       "    </tr>\n",
       "    <tr>\n",
       "      <th>3</th>\n",
       "      <td>Dewa 19</td>\n",
       "      <td>Kirana</td>\n",
       "      <td>Kucoba memahami tempatku berlabuh  \\r\\nTerdamp...</td>\n",
       "    </tr>\n",
       "    <tr>\n",
       "      <th>4</th>\n",
       "      <td>The Monkees</td>\n",
       "      <td>Come On In</td>\n",
       "      <td>Come on in,  \\r\\nYou sure look good to me.  \\r...</td>\n",
       "    </tr>\n",
       "  </tbody>\n",
       "</table>\n",
       "</div>"
      ],
      "text/plain": [
       "               artist                       song  \\\n",
       "0  Velvet Underground           I Can't Stand It   \n",
       "1            Owl City                   Hey Anna   \n",
       "2         Roy Orbison  Here Comes The Rain, Baby   \n",
       "3             Dewa 19                     Kirana   \n",
       "4         The Monkees                 Come On In   \n",
       "\n",
       "                                                text  \n",
       "0  It's hard being a man  \\r\\nLiving in a garbage...  \n",
       "1  Hey Anna, it's just a boy you won't understand...  \n",
       "2  Here comes the rain, baby  \\r\\nGuess it's good...  \n",
       "3  Kucoba memahami tempatku berlabuh  \\r\\nTerdamp...  \n",
       "4  Come on in,  \\r\\nYou sure look good to me.  \\r...  "
      ]
     },
     "execution_count": 6,
     "metadata": {},
     "output_type": "execute_result"
    }
   ],
   "source": [
    "df.head()"
   ]
  },
  {
   "cell_type": "code",
   "execution_count": 7,
   "metadata": {},
   "outputs": [
    {
     "data": {
      "text/plain": [
       "(5000, 3)"
      ]
     },
     "execution_count": 7,
     "metadata": {},
     "output_type": "execute_result"
    }
   ],
   "source": [
    "df.shape"
   ]
  },
  {
   "cell_type": "markdown",
   "metadata": {},
   "source": [
    "## Text Preprocessing/Cleaning"
   ]
  },
  {
   "cell_type": "code",
   "execution_count": 8,
   "metadata": {},
   "outputs": [],
   "source": [
    "df['text']= df['text'].str.lower().replace(r'^\\w\\s', ' ').replace(r'\\n',' ', regex= True)       #a-ZA-Z0-9 = \\w\\s"
   ]
  },
  {
   "cell_type": "code",
   "execution_count": 9,
   "metadata": {},
   "outputs": [],
   "source": [
    "# As there are many approaches for this recommendation system i.e. Content-Based Filtering, Collaborative Filtering, Hybrid....etc\n",
    "# I'm gonna use the Content Based Filtering\n",
    "\n",
    "import nltk\n",
    "from nltk.stem.porter import PorterStemmer\n"
   ]
  },
  {
   "cell_type": "code",
   "execution_count": 10,
   "metadata": {},
   "outputs": [],
   "source": [
    "stemmer = PorterStemmer()"
   ]
  },
  {
   "cell_type": "code",
   "execution_count": 11,
   "metadata": {},
   "outputs": [],
   "source": [
    "def token(txt):\n",
    "    token= nltk.word_tokenize(txt)\n",
    "    a = [stemmer.stem(w) for w in token]\n",
    "    return \" \".join(a)"
   ]
  },
  {
   "cell_type": "code",
   "execution_count": 12,
   "metadata": {},
   "outputs": [
    {
     "data": {
      "text/plain": [
       "'you are beauti , beauti'"
      ]
     },
     "execution_count": 12,
     "metadata": {},
     "output_type": "execute_result"
    }
   ],
   "source": [
    "token(\"you are beautiful, beauty\")"
   ]
  },
  {
   "cell_type": "code",
   "execution_count": 13,
   "metadata": {},
   "outputs": [
    {
     "data": {
      "text/plain": [
       "0       it 's hard be a man live in a garbag pail my l...\n",
       "1       hey anna , it 's just a boy you wo n't underst...\n",
       "2       here come the rain , babi guess it 's goodby a...\n",
       "3       kucoba memahami tempatku berlabuh terdampar di...\n",
       "4       come on in , you sure look good to me . come o...\n",
       "                              ...                        \n",
       "4995    let there be light , let there be joy let ther...\n",
       "4996    `` and now the sever beat of a high school spa...\n",
       "4997    thi might just be a wast of time , but there '...\n",
       "4998    i wish my heart could talk to you like i do ev...\n",
       "4999    love you so much , ca n't count all the way i ...\n",
       "Name: text, Length: 5000, dtype: object"
      ]
     },
     "execution_count": 13,
     "metadata": {},
     "output_type": "execute_result"
    }
   ],
   "source": [
    "df['text'].apply(lambda x: token(x))"
   ]
  },
  {
   "cell_type": "code",
   "execution_count": 14,
   "metadata": {},
   "outputs": [],
   "source": [
    "from sklearn.feature_extraction.text import TfidfVectorizer\n",
    "from sklearn.metrics.pairwise import cosine_similarity"
   ]
  },
  {
   "cell_type": "code",
   "execution_count": 15,
   "metadata": {},
   "outputs": [],
   "source": [
    "tfid = TfidfVectorizer(analyzer='word', stop_words='english')\n",
    "matrix = tfid.fit_transform(df['text'])"
   ]
  },
  {
   "cell_type": "code",
   "execution_count": 16,
   "metadata": {},
   "outputs": [
    {
     "data": {
      "text/plain": [
       "<Compressed Sparse Row sparse matrix of dtype 'float64'\n",
       "\twith 269264 stored elements and shape (5000, 24523)>"
      ]
     },
     "execution_count": 16,
     "metadata": {},
     "output_type": "execute_result"
    }
   ],
   "source": [
    "matrix"
   ]
  },
  {
   "cell_type": "code",
   "execution_count": 17,
   "metadata": {},
   "outputs": [
    {
     "data": {
      "text/plain": [
       "array([1.        , 0.00799601, 0.3301152 , ..., 0.01924517, 0.0222342 ,\n",
       "       0.06109552])"
      ]
     },
     "execution_count": 17,
     "metadata": {},
     "output_type": "execute_result"
    }
   ],
   "source": [
    "similar = cosine_similarity(matrix)\n",
    "similar[0]"
   ]
  },
  {
   "cell_type": "markdown",
   "metadata": {},
   "source": [
    "## Recommender Function"
   ]
  },
  {
   "cell_type": "code",
   "execution_count": 18,
   "metadata": {},
   "outputs": [
    {
     "data": {
      "text/plain": [
       "np.int64(4987)"
      ]
     },
     "execution_count": 18,
     "metadata": {},
     "output_type": "execute_result"
    }
   ],
   "source": [
    "df[df['song'] == \"Do I Ever Cross Your Mind\"].index[0]"
   ]
  },
  {
   "cell_type": "code",
   "execution_count": 19,
   "metadata": {},
   "outputs": [],
   "source": [
    "def recommender(song_name):\n",
    "    idx = df[df['song'] == song_name].index[0]\n",
    "    distance = sorted(list(enumerate(similar[idx])), reverse= True, key= lambda x:x[1])\n",
    "    song = []\n",
    "    for s_id in distance[1:21]:      # 1:21 is for how many lines needed to display\n",
    "        song.append(df.iloc[s_id[0]].song)\n",
    "    return song"
   ]
  },
  {
   "cell_type": "code",
   "execution_count": 20,
   "metadata": {},
   "outputs": [
    {
     "data": {
      "text/plain": [
       "['Sweet Love',\n",
       " \"Takin' Me Back\",\n",
       " 'Touch And Go',\n",
       " 'Love Is A Sweet Thing',\n",
       " 'Fantasy',\n",
       " 'Sweet Young Thing Like You',\n",
       " 'Never',\n",
       " \"I Don't Mind\",\n",
       " \"Cryin' Time\",\n",
       " 'How Long',\n",
       " 'Long, Long Way To Go',\n",
       " 'Darling Days',\n",
       " 'Child Of Mine',\n",
       " 'How Long Will I Love You',\n",
       " 'I Can See It In Your Eyes',\n",
       " 'At This Moment',\n",
       " 'Oh My My',\n",
       " 'Love',\n",
       " 'Did You Know',\n",
       " \"I'd Do It All Over Again\"]"
      ]
     },
     "execution_count": 20,
     "metadata": {},
     "output_type": "execute_result"
    }
   ],
   "source": [
    "recommender(\"Do I Ever Cross Your Mind\")"
   ]
  },
  {
   "cell_type": "code",
   "execution_count": 21,
   "metadata": {},
   "outputs": [],
   "source": [
    "import pickle\n",
    "pickle.dump(similar, open(\"similarity.pkl\", \"wb\"))\n",
    "pickle.dump(df, open(\"df.pkl\", \"wb\"))"
   ]
  },
  {
   "cell_type": "code",
   "execution_count": null,
   "metadata": {},
   "outputs": [],
   "source": []
  }
 ],
 "metadata": {
  "kernelspec": {
   "display_name": "Python 3",
   "language": "python",
   "name": "python3"
  },
  "language_info": {
   "codemirror_mode": {
    "name": "ipython",
    "version": 3
   },
   "file_extension": ".py",
   "mimetype": "text/x-python",
   "name": "python",
   "nbconvert_exporter": "python",
   "pygments_lexer": "ipython3",
   "version": "3.11.9"
  }
 },
 "nbformat": 4,
 "nbformat_minor": 2
}
