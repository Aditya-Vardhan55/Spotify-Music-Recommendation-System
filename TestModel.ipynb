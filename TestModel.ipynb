{
 "cells": [
  {
   "cell_type": "code",
   "execution_count": 1,
   "metadata": {},
   "outputs": [
    {
     "name": "stdout",
     "output_type": "stream",
     "text": [
      "<class 'pandas.core.frame.DataFrame'>\n",
      "RangeIndex: 57650 entries, 0 to 57649\n",
      "Data columns (total 4 columns):\n",
      " #   Column  Non-Null Count  Dtype \n",
      "---  ------  --------------  ----- \n",
      " 0   artist  57650 non-null  object\n",
      " 1   song    57650 non-null  object\n",
      " 2   link    57650 non-null  object\n",
      " 3   text    57650 non-null  object\n",
      "dtypes: object(4)\n",
      "memory usage: 1.8+ MB\n"
     ]
    },
    {
     "data": {
      "text/plain": [
       "(  artist                   song                                        link  \\\n",
       " 0   ABBA  Ahe's My Kind Of Girl  /a/abba/ahes+my+kind+of+girl_20598417.html   \n",
       " 1   ABBA       Andante, Andante       /a/abba/andante+andante_20002708.html   \n",
       " 2   ABBA         As Good As New        /a/abba/as+good+as+new_20003033.html   \n",
       " 3   ABBA                   Bang                  /a/abba/bang_20598415.html   \n",
       " 4   ABBA       Bang-A-Boomerang      /a/abba/bang+a+boomerang_20002668.html   \n",
       " \n",
       "                                                 text  \n",
       " 0  Look at her face, it's a wonderful face  \\r\\nA...  \n",
       " 1  Take it easy with me, please  \\r\\nTouch me gen...  \n",
       " 2  I'll never know why I had to go  \\r\\nWhy I had...  \n",
       " 3  Making somebody happy is a question of give an...  \n",
       " 4  Making somebody happy is a question of give an...  ,\n",
       " None)"
      ]
     },
     "execution_count": 1,
     "metadata": {},
     "output_type": "execute_result"
    }
   ],
   "source": [
    "import pandas as pd\n",
    "\n",
    "file_path = 'C:\\\\Users\\\\vardh\\\\.vscode\\\\Spotify-Music-Recommendation-System-using-KNN\\\\spotify_millsongdata.csv'\n",
    "data = pd.read_csv(file_path)\n",
    "\n",
    "data.head(), data.info()"
   ]
  },
  {
   "cell_type": "code",
   "execution_count": 2,
   "metadata": {},
   "outputs": [
    {
     "data": {
      "text/plain": [
       "(57650, 5000)"
      ]
     },
     "execution_count": 2,
     "metadata": {},
     "output_type": "execute_result"
    }
   ],
   "source": [
    "from sklearn.feature_extraction.text import TfidfVectorizer\n",
    "import re\n",
    "\n",
    "# Preprocessing\n",
    "def clean_text(text):\n",
    "    text = re.sub(r'\\r\\n', ' ', text)   # Removing Line Breaks\n",
    "    text = re.sub(r'[^a-zA-Z\\s]', '', text)     # Remove non-alphabetic characters\n",
    "    text = text.lower()     # Convert to lowercase\n",
    "    return text\n",
    "\n",
    "data['cleaned_text'] = data['text'].apply(clean_text)\n",
    "\n",
    "# Feature extraction using TF-IDF Vectorizer\n",
    "tfidf = TfidfVectorizer(max_features= 5000, stop_words='english')   # Limit to 5000 features\n",
    "tfidf_matrix = tfidf.fit_transform(data['cleaned_text'])\n",
    "\n",
    "# Display the shape of the TF-IDF matrix\n",
    "tfidf_matrix.shape"
   ]
  },
  {
   "cell_type": "code",
   "execution_count": null,
   "metadata": {},
   "outputs": [
    {
     "data": {
      "text/plain": [
       "[{'song': 'Bang',\n",
       "  'artist': 'ABBA',\n",
       "  'distance': np.float64(0.010192173513129732)},\n",
       " {'song': 'Bang Bang',\n",
       "  'artist': 'Stevie Wonder',\n",
       "  'distance': np.float64(0.29816408613252365)},\n",
       " {'song': 'Bang-Bang',\n",
       "  'artist': 'Cher',\n",
       "  'distance': np.float64(0.3177692391600685)},\n",
       " {'song': 'Bang Bang',\n",
       "  'artist': 'David Bowie',\n",
       "  'distance': np.float64(0.31859633542433285)},\n",
       " {'song': 'Bang Bang (My Baby Shot Me Down)',\n",
       "  'artist': 'Frank Sinatra',\n",
       "  'distance': np.float64(0.32060721704310413)}]"
      ]
     },
     "execution_count": 3,
     "metadata": {},
     "output_type": "execute_result"
    }
   ],
   "source": [
    "from sklearn.neighbors import NearestNeighbors\n",
    "\n",
    "# Fiting the KNN model\n",
    "knn = NearestNeighbors(n_neighbors= 5, metric='cosine') # Using cosine similarity\n",
    "knn.fit(tfidf_matrix)\n",
    "\n",
    "# Recommendation Function\n",
    "def recommend_songs(song_title, n_recommendations= 5):\n",
    "    song_index = data[data['song'].str.lower() == song_title.lower()].index     # Find the index of the song\n",
    "    if len(song_index) == 0:\n",
    "        return f\"Song '{song_title}' not found in the dataset.\"\n",
    "    \n",
    "    # Query the KNN model\n",
    "    distances, indices = knn.kneighbors(tfidf_matrix[song_index[0]], n_neighbors=n_recommendations + 1)\n",
    "    \n",
    "    # Fetch the recommended songs\n",
    "    recommended_songs = []\n",
    "    for idx in indices.flatten()[1:]:\n",
    "        recommended_songs.append({\n",
    "            \"song\": data.iloc[idx]['song'],\n",
    "            \"artist\": data.iloc[idx]['artist'],\n",
    "            \"distance\": distances.flatten()[indices.tolist()[0].index(idx)]\n",
    "        })\n",
    "        \n",
    "    return recommended_songs\n",
    "\n",
    "# Example: Get recommendations for a song\n",
    "# recommend_songs(\"Bang-A-Boomerang\")"
   ]
  },
  {
   "cell_type": "code",
   "execution_count": null,
   "metadata": {},
   "outputs": [],
   "source": []
  }
 ],
 "metadata": {
  "kernelspec": {
   "display_name": "Python 3",
   "language": "python",
   "name": "python3"
  },
  "language_info": {
   "codemirror_mode": {
    "name": "ipython",
    "version": 3
   },
   "file_extension": ".py",
   "mimetype": "text/x-python",
   "name": "python",
   "nbconvert_exporter": "python",
   "pygments_lexer": "ipython3",
   "version": "3.11.9"
  }
 },
 "nbformat": 4,
 "nbformat_minor": 2
}
